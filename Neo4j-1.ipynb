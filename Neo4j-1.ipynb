{
 "cells": [
  {
   "cell_type": "code",
   "execution_count": 2,
   "metadata": {
    "vscode": {
     "languageId": "bat"
    }
   },
   "outputs": [
    {
     "name": "stdout",
     "output_type": "stream",
     "text": [
      "Requirement already satisfied: pandas in c:\\users\\stanley chen\\documents\\computer science\\database project\\database_project_1\\.conda\\lib\\site-packages (2.2.3)\n",
      "Requirement already satisfied: numpy>=1.26.0 in c:\\users\\stanley chen\\documents\\computer science\\database project\\database_project_1\\.conda\\lib\\site-packages (from pandas) (2.1.2)\n",
      "Requirement already satisfied: python-dateutil>=2.8.2 in c:\\users\\stanley chen\\appdata\\roaming\\python\\python312\\site-packages (from pandas) (2.9.0.post0)\n",
      "Requirement already satisfied: pytz>=2020.1 in c:\\users\\stanley chen\\documents\\computer science\\database project\\database_project_1\\.conda\\lib\\site-packages (from pandas) (2024.2)\n",
      "Requirement already satisfied: tzdata>=2022.7 in c:\\users\\stanley chen\\documents\\computer science\\database project\\database_project_1\\.conda\\lib\\site-packages (from pandas) (2024.2)\n",
      "Requirement already satisfied: six>=1.5 in c:\\users\\stanley chen\\appdata\\roaming\\python\\python312\\site-packages (from python-dateutil>=2.8.2->pandas) (1.16.0)\n",
      "Requirement already satisfied: py2neo in c:\\users\\stanley chen\\documents\\computer science\\database project\\database_project_1\\.conda\\lib\\site-packages (2021.2.4)\n",
      "Requirement already satisfied: certifi in c:\\users\\stanley chen\\documents\\computer science\\database project\\database_project_1\\.conda\\lib\\site-packages (from py2neo) (2024.8.30)\n",
      "Requirement already satisfied: interchange~=2021.0.4 in c:\\users\\stanley chen\\documents\\computer science\\database project\\database_project_1\\.conda\\lib\\site-packages (from py2neo) (2021.0.4)\n",
      "Requirement already satisfied: monotonic in c:\\users\\stanley chen\\documents\\computer science\\database project\\database_project_1\\.conda\\lib\\site-packages (from py2neo) (1.6)\n",
      "Requirement already satisfied: packaging in c:\\users\\stanley chen\\appdata\\roaming\\python\\python312\\site-packages (from py2neo) (24.1)\n",
      "Requirement already satisfied: pansi>=2020.7.3 in c:\\users\\stanley chen\\documents\\computer science\\database project\\database_project_1\\.conda\\lib\\site-packages (from py2neo) (2020.7.3)\n",
      "Requirement already satisfied: pygments>=2.0.0 in c:\\users\\stanley chen\\appdata\\roaming\\python\\python312\\site-packages (from py2neo) (2.18.0)\n",
      "Requirement already satisfied: six>=1.15.0 in c:\\users\\stanley chen\\appdata\\roaming\\python\\python312\\site-packages (from py2neo) (1.16.0)\n",
      "Requirement already satisfied: urllib3 in c:\\users\\stanley chen\\documents\\computer science\\database project\\database_project_1\\.conda\\lib\\site-packages (from py2neo) (2.2.3)\n",
      "Requirement already satisfied: pytz in c:\\users\\stanley chen\\documents\\computer science\\database project\\database_project_1\\.conda\\lib\\site-packages (from interchange~=2021.0.4->py2neo) (2024.2)\n"
     ]
    }
   ],
   "source": [
    "!pip install pandas\n",
    "!pip install py2neo\n"
   ]
  },
  {
   "cell_type": "code",
   "execution_count": 21,
   "metadata": {},
   "outputs": [],
   "source": [
    "import pandas as pd\n",
    "from py2neo import Graph, Node, Relationship"
   ]
  },
  {
   "cell_type": "code",
   "execution_count": 22,
   "metadata": {},
   "outputs": [],
   "source": [
    "node_df = pd.read_csv('hetionet/nodes.tsv', sep='\\t')\n",
    "edges_df = pd.read_csv('hetionet/edges.tsv', sep='\\t')"
   ]
  },
  {
   "cell_type": "markdown",
   "metadata": {},
   "source": [
    "Make connection to Neo4j database"
   ]
  },
  {
   "cell_type": "code",
   "execution_count": 23,
   "metadata": {},
   "outputs": [],
   "source": [
    "graph = Graph(\"bolt://localhost:7687\", auth=('neo4j', 'lucky238'))"
   ]
  },
  {
   "cell_type": "markdown",
   "metadata": {},
   "source": [
    "Import node data into graph database"
   ]
  },
  {
   "cell_type": "code",
   "execution_count": 14,
   "metadata": {},
   "outputs": [],
   "source": [
    "def create_Node(row):\n",
    "    node_label, identifier = row['id'].split('::')\n",
    "\n",
    "    if 'Anatomy' == node_label:\n",
    "        anatomy_node = Node(label = node_label, id = identifier, name = row['name'])\n",
    "        graph.merge(anatomy_node, 'Anatomy', 'id')\n",
    "    \n",
    "    elif 'Disease' == node_label:\n",
    "        disease_node = Node(label = node_label, id= identifier, name = row['name'])\n",
    "        graph.merge(disease_node, 'Disease', 'id')\n",
    "\n",
    "    elif 'Compound' == node_label:\n",
    "        compound_node = Node(label = node_label, id= identifier, name = row['name'])\n",
    "        graph.merge(compound_node, 'Compound', 'id')\n",
    "    \n",
    "    elif 'Gene' == node_label:\n",
    "        gene_node = Node(label = node_label, id = identifier, name = row['name'])\n",
    "        graph.merge(gene_node, 'Gene', 'id')"
   ]
  },
  {
   "cell_type": "code",
   "execution_count": 19,
   "metadata": {},
   "outputs": [
    {
     "data": {
      "text/plain": [
       "0        None\n",
       "1        None\n",
       "2        None\n",
       "3        None\n",
       "4        None\n",
       "         ... \n",
       "23031    None\n",
       "23032    None\n",
       "23033    None\n",
       "23034    None\n",
       "23035    None\n",
       "Length: 23036, dtype: object"
      ]
     },
     "execution_count": 19,
     "metadata": {},
     "output_type": "execute_result"
    }
   ],
   "source": [
    "node_df.apply(create_Node, axis=1)"
   ]
  },
  {
   "cell_type": "markdown",
   "metadata": {},
   "source": [
    "Import relationship data into graph database"
   ]
  },
  {
   "cell_type": "code",
   "execution_count": 16,
   "metadata": {},
   "outputs": [],
   "source": [
    "def get_interaction_description(abbreviation):\n",
    "    interaction_map = {\n",
    "        'GiG': 'interacts_GiG',\n",
    "        'CrC': 'resembles_CrC',\n",
    "        'DdG': 'downregulates_DdG',\n",
    "        'DlA': 'localizes_DlA',\n",
    "        'CtD': 'treats_CtD',\n",
    "        'CbG': 'binds_CbG',\n",
    "        'CuG': 'upregulates_CuG',\n",
    "        'DrD': 'resembles_DrD',\n",
    "        'DaG': 'associates_DaG',\n",
    "        'CpD': 'palliates_CpD',\n",
    "        'AdG': 'downregulates_AdG',\n",
    "        'AuG': 'upregulates_AuG',\n",
    "        'GcG': 'covaries_GcG',\n",
    "        'Gr>G': 'regulates_Gr>G',\n",
    "        'CdG': 'downregulates_CdG',\n",
    "        'DuG': 'upregulates_DuG',\n",
    "        'AeG': 'expresses_AeG',\n",
    "    }\n",
    "    return interaction_map.get(abbreviation)"
   ]
  },
  {
   "cell_type": "code",
   "execution_count": 17,
   "metadata": {},
   "outputs": [],
   "source": [
    "def create_Relationship(row):\n",
    "    source_type, source_id = row['source'].split('::')\n",
    "    target_type, target_id = row['target'].split('::')\n",
    "    rel_type = get_interaction_description(row['metaedge'])\n",
    "\n",
    "\n",
    "    source_node = graph.nodes.match(source_type, id=source_id).first()\n",
    "    target_node = graph.nodes.match(target_type, id=target_id).first()\n",
    "\n",
    "    if source_node and target_node:\n",
    "        rel = Relationship(source_node, rel_type, target_node)\n",
    "        graph.merge(rel)\n",
    "    else:\n",
    "        print(\"Relationship not found\")"
   ]
  },
  {
   "cell_type": "code",
   "execution_count": 20,
   "metadata": {},
   "outputs": [
    {
     "data": {
      "text/plain": [
       "0          None\n",
       "1          None\n",
       "2          None\n",
       "3          None\n",
       "4          None\n",
       "           ... \n",
       "1292198    None\n",
       "1292199    None\n",
       "1292200    None\n",
       "1292201    None\n",
       "1292202    None\n",
       "Length: 1292203, dtype: object"
      ]
     },
     "execution_count": 20,
     "metadata": {},
     "output_type": "execute_result"
    }
   ],
   "source": [
    "edges_df.apply(create_Relationship, axis=1)"
   ]
  }
 ],
 "metadata": {
  "kernelspec": {
   "display_name": "Python 3",
   "language": "python",
   "name": "python3"
  },
  "language_info": {
   "codemirror_mode": {
    "name": "ipython",
    "version": 3
   },
   "file_extension": ".py",
   "mimetype": "text/x-python",
   "name": "python",
   "nbconvert_exporter": "python",
   "pygments_lexer": "ipython3",
   "version": "3.12.7"
  }
 },
 "nbformat": 4,
 "nbformat_minor": 2
}
