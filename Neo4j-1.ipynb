{
 "cells": [
  {
   "cell_type": "code",
   "execution_count": null,
   "metadata": {
    "vscode": {
     "languageId": "bat"
    }
   },
   "outputs": [],
   "source": [
    "!pip install pandas\n",
    "!pip install py2neo\n"
   ]
  },
  {
   "cell_type": "code",
   "execution_count": 6,
   "metadata": {},
   "outputs": [],
   "source": [
    "import pandas as pd\n",
    "from py2neo import Graph, Node, Relationship"
   ]
  },
  {
   "cell_type": "code",
   "execution_count": 21,
   "metadata": {},
   "outputs": [],
   "source": [
    "node_df = pd.read_csv('hetionet/nodes.tsv', sep='\\t')\n",
    "edges_df = pd.read_csv('hetionet/edges.tsv', sep='\\t')"
   ]
  },
  {
   "cell_type": "markdown",
   "metadata": {},
   "source": [
    "Make connection to Neo4j database"
   ]
  },
  {
   "cell_type": "code",
   "execution_count": 13,
   "metadata": {},
   "outputs": [],
   "source": [
    "graph = Graph(\"bolt://localhost:7687\", auth=('neo4j', 'lucky238'))"
   ]
  },
  {
   "cell_type": "markdown",
   "metadata": {},
   "source": [
    "Import node data into graph database"
   ]
  },
  {
   "cell_type": "code",
   "execution_count": 44,
   "metadata": {},
   "outputs": [],
   "source": [
    "for index , row in node_df.iterrows():\n",
    "    node = Node(label='Disease', id=row['id'], name=row['name'], kind=row['kind'])\n",
    "\n",
    "    graph.merge(node, 'Disease', 'id')"
   ]
  },
  {
   "cell_type": "markdown",
   "metadata": {},
   "source": [
    "Import relationship data into graph database"
   ]
  },
  {
   "cell_type": "code",
   "execution_count": 48,
   "metadata": {},
   "outputs": [],
   "source": [
    "for index, row in edges_df.iterrows():\n",
    "    source_id = row['source']\n",
    "    target_id = row['target']\n",
    "    rel_type = row['metaedge']\n",
    "\n",
    "    source_node = graph.nodes.match('Disease', id=source_id).first()\n",
    "    target_node = graph.nodes.match('Disease', id=target_id).first()\n",
    "\n",
    "    if source_node and target_node:\n",
    "        rel = Relationship(source_node, rel_type, target_node)\n",
    "\n",
    "        graph.merge(rel)\n",
    "    else:\n",
    "        print(\"Cannot find\")"
   ]
  }
 ],
 "metadata": {
  "kernelspec": {
   "display_name": "Python 3",
   "language": "python",
   "name": "python3"
  },
  "language_info": {
   "codemirror_mode": {
    "name": "ipython",
    "version": 3
   },
   "file_extension": ".py",
   "mimetype": "text/x-python",
   "name": "python",
   "nbconvert_exporter": "python",
   "pygments_lexer": "ipython3",
   "version": "3.12.7"
  }
 },
 "nbformat": 4,
 "nbformat_minor": 2
}
