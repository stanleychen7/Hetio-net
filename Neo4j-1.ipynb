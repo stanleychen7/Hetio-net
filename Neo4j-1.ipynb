{
 "cells": [
  {
   "cell_type": "code",
   "execution_count": 1,
   "metadata": {
    "vscode": {
     "languageId": "bat"
    }
   },
   "outputs": [
    {
     "name": "stdout",
     "output_type": "stream",
     "text": [
      "Requirement already satisfied: pandas in /opt/miniconda3/envs/neo4j_py/lib/python3.12/site-packages (2.2.3)\n",
      "Requirement already satisfied: numpy>=1.26.0 in /opt/miniconda3/envs/neo4j_py/lib/python3.12/site-packages (from pandas) (2.1.2)\n",
      "Requirement already satisfied: python-dateutil>=2.8.2 in /opt/miniconda3/envs/neo4j_py/lib/python3.12/site-packages (from pandas) (2.9.0.post0)\n",
      "Requirement already satisfied: pytz>=2020.1 in /opt/miniconda3/envs/neo4j_py/lib/python3.12/site-packages (from pandas) (2024.1)\n",
      "Requirement already satisfied: tzdata>=2022.7 in /opt/miniconda3/envs/neo4j_py/lib/python3.12/site-packages (from pandas) (2024.2)\n",
      "Requirement already satisfied: six>=1.5 in /opt/miniconda3/envs/neo4j_py/lib/python3.12/site-packages (from python-dateutil>=2.8.2->pandas) (1.16.0)\n",
      "Requirement already satisfied: py2neo in /opt/miniconda3/envs/neo4j_py/lib/python3.12/site-packages (2021.2.4)\n",
      "Requirement already satisfied: certifi in /opt/miniconda3/envs/neo4j_py/lib/python3.12/site-packages (from py2neo) (2024.8.30)\n",
      "Requirement already satisfied: interchange~=2021.0.4 in /opt/miniconda3/envs/neo4j_py/lib/python3.12/site-packages (from py2neo) (2021.0.4)\n",
      "Requirement already satisfied: monotonic in /opt/miniconda3/envs/neo4j_py/lib/python3.12/site-packages (from py2neo) (1.6)\n",
      "Requirement already satisfied: packaging in /opt/miniconda3/envs/neo4j_py/lib/python3.12/site-packages (from py2neo) (24.1)\n",
      "Requirement already satisfied: pansi>=2020.7.3 in /opt/miniconda3/envs/neo4j_py/lib/python3.12/site-packages (from py2neo) (2020.7.3)\n",
      "Requirement already satisfied: pygments>=2.0.0 in /opt/miniconda3/envs/neo4j_py/lib/python3.12/site-packages (from py2neo) (2.15.1)\n",
      "Requirement already satisfied: six>=1.15.0 in /opt/miniconda3/envs/neo4j_py/lib/python3.12/site-packages (from py2neo) (1.16.0)\n",
      "Requirement already satisfied: urllib3 in /opt/miniconda3/envs/neo4j_py/lib/python3.12/site-packages (from py2neo) (2.2.3)\n",
      "Requirement already satisfied: pytz in /opt/miniconda3/envs/neo4j_py/lib/python3.12/site-packages (from interchange~=2021.0.4->py2neo) (2024.1)\n"
     ]
    }
   ],
   "source": [
    "!pip install pandas\n",
    "!pip install py2neo\n"
   ]
  },
  {
   "cell_type": "code",
   "execution_count": 2,
   "metadata": {},
   "outputs": [],
   "source": [
    "import pandas as pd\n",
    "from py2neo import Graph, Node, Relationship"
   ]
  },
  {
   "cell_type": "code",
   "execution_count": 3,
   "metadata": {},
   "outputs": [],
   "source": [
    "node_df = pd.read_csv('hetionet/nodes.tsv', sep='\\t')\n",
    "edges_df = pd.read_csv('hetionet/edges.tsv', sep='\\t')"
   ]
  },
  {
   "cell_type": "code",
   "execution_count": 6,
   "metadata": {},
   "outputs": [
    {
     "name": "stdout",
     "output_type": "stream",
     "text": [
      "Anatomy\n"
     ]
    }
   ],
   "source": [
    "test = node_df.iloc[0]\n",
    "\n",
    "if 'Anatomy' in test['id']:\n",
    "    print('Anatomy')\n",
    "else:\n",
    "    print(0)"
   ]
  },
  {
   "cell_type": "code",
   "execution_count": 61,
   "metadata": {},
   "outputs": [
    {
     "name": "stdout",
     "output_type": "stream",
     "text": [
      "Anatomy\n",
      "UBERON:0000002\n"
     ]
    }
   ],
   "source": [
    "type_label, type_id = test['id'].split('::')\n",
    "print(type_label)\n",
    "print(type_id)"
   ]
  },
  {
   "cell_type": "markdown",
   "metadata": {},
   "source": [
    "Make connection to Neo4j database"
   ]
  },
  {
   "cell_type": "code",
   "execution_count": 17,
   "metadata": {},
   "outputs": [],
   "source": [
    "graph = Graph(\"bolt://localhost:7687\", auth=('neo4j', 'lucky238'))"
   ]
  },
  {
   "cell_type": "markdown",
   "metadata": {},
   "source": [
    "Import node data into graph database"
   ]
  },
  {
   "cell_type": "code",
   "execution_count": 70,
   "metadata": {},
   "outputs": [],
   "source": [
    "def create_Node(row):\n",
    "    node_label, identifier = row['id'].split('::')\n",
    "\n",
    "    if 'Anatomy' == node_label:\n",
    "        anatomy_node = Node(label = node_label, id = identifier, name = row['name'])\n",
    "        graph.merge(anatomy_node, 'Anatomy', 'id')\n",
    "    \n",
    "    elif 'Disease' == node_label:\n",
    "        disease_node = Node(label = node_label, id= identifier, name = row['name'])\n",
    "        graph.merge(disease_node, 'Disease', 'id')\n",
    "\n",
    "    elif 'Compound' == node_label:\n",
    "        compound_node = Node(label = node_label, id= identifier, name = row['name'])\n",
    "        graph.merge(compound_node, 'Compound', 'id')\n",
    "    \n",
    "    elif 'Gene' == node_label:\n",
    "        gene_node = Node(label = node_label, id = identifier, name = row['name'])\n",
    "        graph.merge(gene_node, 'Gene', 'id')"
   ]
  },
  {
   "cell_type": "code",
   "execution_count": 71,
   "metadata": {},
   "outputs": [
    {
     "data": {
      "text/plain": [
       "0        None\n",
       "1        None\n",
       "2        None\n",
       "3        None\n",
       "4        None\n",
       "         ... \n",
       "23031    None\n",
       "23032    None\n",
       "23033    None\n",
       "23034    None\n",
       "23035    None\n",
       "Length: 23036, dtype: object"
      ]
     },
     "execution_count": 71,
     "metadata": {},
     "output_type": "execute_result"
    }
   ],
   "source": [
    "node_df.apply(create_Node, axis=1)"
   ]
  },
  {
   "cell_type": "markdown",
   "metadata": {},
   "source": [
    "Import relationship data into graph database"
   ]
  },
  {
   "cell_type": "code",
   "execution_count": 72,
   "metadata": {},
   "outputs": [
    {
     "data": {
      "text/plain": [
       "array(['GiG', 'CrC', 'DdG', 'DlA', 'CtD', 'CbG', 'CuG', 'DrD', 'DaG',\n",
       "       'CpD', 'AdG', 'AuG', 'GcG', 'Gr>G', 'CdG', 'DuG', 'AeG'],\n",
       "      dtype=object)"
      ]
     },
     "execution_count": 72,
     "metadata": {},
     "output_type": "execute_result"
    }
   ],
   "source": [
    "edges_df['metaedge'].unique()"
   ]
  },
  {
   "cell_type": "code",
   "execution_count": 48,
   "metadata": {},
   "outputs": [],
   "source": [
    "for index, row in edges_df.iterrows():\n",
    "    source_id = row['source']\n",
    "    target_id = row['target']\n",
    "    rel_type = row['metaedge']\n",
    "\n",
    "    source_node = graph.nodes.match('Disease', id=source_id).first()\n",
    "    target_node = graph.nodes.match('Disease', id=target_id).first()\n",
    "\n",
    "    if source_node and target_node:\n",
    "        rel = Relationship(source_node, rel_type, target_node)\n",
    "\n",
    "        graph.merge(rel)\n",
    "    else:\n",
    "        print(\"Cannot find\")"
   ]
  }
 ],
 "metadata": {
  "kernelspec": {
   "display_name": "neo4j_py",
   "language": "python",
   "name": "python3"
  },
  "language_info": {
   "codemirror_mode": {
    "name": "ipython",
    "version": 3
   },
   "file_extension": ".py",
   "mimetype": "text/x-python",
   "name": "python",
   "nbconvert_exporter": "python",
   "pygments_lexer": "ipython3",
   "version": "3.12.7"
  }
 },
 "nbformat": 4,
 "nbformat_minor": 2
}
